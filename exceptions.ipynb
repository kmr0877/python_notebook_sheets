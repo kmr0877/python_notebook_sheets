{
 "cells": [
  {
   "cell_type": "raw",
   "metadata": {},
   "source": [
    "Form without except:\n",
    "\n",
    "try:\n",
    "    statements\n",
    "finally:\n",
    "    statements\n",
    "    \n",
    "\n",
    "Form with except:\n",
    "\n",
    "try:\n",
    "    statements\n",
    "except [type [as value]]:\n",
    "    statements\n",
    "[except [type [as value]]:\n",
    "    statements]*\n",
    "[else:\n",
    "    statements]\n",
    "[finally:\n",
    "    statements]"
   ]
  },
  {
   "cell_type": "code",
   "execution_count": null,
   "metadata": {
    "collapsed": false
   },
   "outputs": [],
   "source": [
    "class cello :\n",
    "    pass\n",
    "\n",
    "strings = ('\"hello\"',\n",
    "           'hello',\n",
    "           '\"hello\" + 2',\n",
    "           '\"hello\"[5]',\n",
    "           '{\"hello\": 0}[\"hi\"]',\n",
    "           'cello.pitch',\n",
    "           'open(\"hello.txt\")')\n",
    "\n",
    "from random import choice\n",
    "\n",
    "try:\n",
    "    string = choice(strings)\n",
    "    print(string)\n",
    "\n",
    "\n",
    "    exec(string)\n",
    "finally:\n",
    "    print('Output in any case')"
   ]
  },
  {
   "cell_type": "code",
   "execution_count": null,
   "metadata": {
    "collapsed": false
   },
   "outputs": [],
   "source": [
    "strings = ('\"hello\"',\n",
    "           'hello',\n",
    "           '\"hello\" + 2',\n",
    "           '\"hello\"[5]',\n",
    "           '{\"hello\": 0}[\"hi\"]',\n",
    "           'class cello : {} ; cello.pitch',\n",
    "           'open(\"hello.txt\")')\n",
    "\n",
    "from random import choice\n",
    "\n",
    "try:\n",
    "    string = choice(strings)\n",
    "    print(string)\n",
    "    exec(string)\n",
    "except NameError:\n",
    "    print('NameError!')\n",
    "except TypeError as e:\n",
    "    print('TypeError!')\n",
    "    print(e)\n",
    "except (IndexError, KeyError):\n",
    "    print('IndexError or KeyError!')\n",
    "except:\n",
    "    print('Any other error...')\n",
    "else:\n",
    "    print('All good, no error.')\n",
    "finally:\n",
    "    print('Output in any case')"
   ]
  },
  {
   "cell_type": "code",
   "execution_count": null,
   "metadata": {
    "collapsed": false
   },
   "outputs": [],
   "source": [
    "try:\n",
    "    hello\n",
    "except NameError:\n",
    "    try:\n",
    "        'hello'[5]\n",
    "    except IndexError:\n",
    "        try:\n",
    "            {\"hello\": 0}[\"hi\"]\n",
    "        except KeyError as e:\n",
    "            raise ZeroDivisionError"
   ]
  },
  {
   "cell_type": "code",
   "execution_count": null,
   "metadata": {
    "collapsed": false
   },
   "outputs": [],
   "source": [
    "try:\n",
    "    hello\n",
    "except NameError:\n",
    "    try:\n",
    "        'hello'[5]\n",
    "    except IndexError:\n",
    "        try:\n",
    "            {\"hello\": 0}[\"hi\"]\n",
    "        except KeyError as e:\n",
    "            raise ZeroDivisionError from e"
   ]
  },
  {
   "cell_type": "code",
   "execution_count": null,
   "metadata": {
    "collapsed": false
   },
   "outputs": [],
   "source": [
    "try:\n",
    "    hello\n",
    "except NameError:\n",
    "    try:\n",
    "        'hello'[5]\n",
    "    except IndexError:\n",
    "        try:\n",
    "            {\"hello\": 0}[\"hi\"]\n",
    "        except KeyError as e:\n",
    "            raise ZeroDivisionError from None"
   ]
  }
 ],
 "metadata": {
  "kernelspec": {
   "display_name": "Python 3",
   "language": "python",
   "name": "python3"
  },
  "language_info": {
   "codemirror_mode": {
    "name": "ipython",
    "version": 3
   },
   "file_extension": ".py",
   "mimetype": "text/x-python",
   "name": "python",
   "nbconvert_exporter": "python",
   "pygments_lexer": "ipython3",
   "version": "3.5.2"
  }
 },
 "nbformat": 4,
 "nbformat_minor": 0
}
